{
 "cells": [
  {
   "cell_type": "markdown",
   "id": "24023f66-354b-4972-b1a2-ee15f25dd74d",
   "metadata": {},
   "source": [
    "#Data Science Tools and Ecosystem"
   ]
  },
  {
   "cell_type": "markdown",
   "id": "45ff1636-8055-401f-b499-59eef5a65bb9",
   "metadata": {},
   "source": [
    "#In this notebook, Data Science Tools and Ecosystem are summarized."
   ]
  },
  {
   "cell_type": "markdown",
   "id": "c3213b9e-361a-4d6d-8c11-a241e4fd6821",
   "metadata": {},
   "source": [
    "#__Objectives:__\n",
    "- SQL\n",
    "- R\n",
    "- python\n",
    "- Scala\n",
    "- Java"
   ]
  },
  {
   "cell_type": "markdown",
   "id": "642b4810-3f66-4c63-a64f-8c5c46bfb03e",
   "metadata": {},
   "source": [
    "#Some of the popular languages that Data Scientists use are:\n",
    "1. python\n",
    "2. R\n",
    "3. SQL"
   ]
  },
  {
   "cell_type": "markdown",
   "id": "1e209a7c-c57e-427b-b375-defa916b1c74",
   "metadata": {},
   "source": [
    "Some of the commonly used libraries used by Data Scientists include:\n",
    "1. NumPy\n",
    "2. Pandas\n",
    "3. Matplotlib\n",
    "4. SciPy\n",
    "5. TensorFlow"
   ]
  },
  {
   "cell_type": "markdown",
   "id": "8e9152f0-3aa7-4467-8cc5-32df81392715",
   "metadata": {},
   "source": [
    "|Data Science Tools|\n",
    "|------------------|\n",
    "|Github           |\n",
    "|R Studio         |\n",
    "|Anaconda        |"
   ]
  },
  {
   "cell_type": "markdown",
   "id": "9079bb7f-9a22-4ec9-a316-75b7e2d6f5d3",
   "metadata": {},
   "source": [
    "### Below are a few examples of evaluating arithmetic expressions in Python"
   ]
  },
  {
   "cell_type": "code",
   "execution_count": 1,
   "id": "fb3905f4-24c3-4db8-8130-4b6b491f219a",
   "metadata": {},
   "outputs": [
    {
     "data": {
      "text/plain": [
       "17"
      ]
     },
     "execution_count": 1,
     "metadata": {},
     "output_type": "execute_result"
    }
   ],
   "source": [
    "(3*4)+5\n",
    "#This a simple arithmetic expression to mutiply then add integers"
   ]
  },
  {
   "cell_type": "code",
   "execution_count": 3,
   "id": "ac8bb04f-a5d6-4c22-a3a1-c1b5e37868ad",
   "metadata": {},
   "outputs": [
    {
     "data": {
      "text/plain": [
       "3.3333333333333335"
      ]
     },
     "execution_count": 3,
     "metadata": {},
     "output_type": "execute_result"
    }
   ],
   "source": [
    "(200/60)\n",
    "#This will convert 200 minutes to hours by diving by 60"
   ]
  },
  {
   "cell_type": "markdown",
   "id": "a5b1ea05-3df5-4d29-bf26-292113e8eb00",
   "metadata": {},
   "source": [
    "## Author:\n",
    "Miguel Angel Moreno Reyes"
   ]
  },
  {
   "cell_type": "code",
   "execution_count": null,
   "id": "aaafa0aa-ae99-450b-8068-f8b1ca0acb9d",
   "metadata": {},
   "outputs": [],
   "source": []
  }
 ],
 "metadata": {
  "kernelspec": {
   "display_name": "Python 3 (ipykernel)",
   "language": "python",
   "name": "python3"
  },
  "language_info": {
   "codemirror_mode": {
    "name": "ipython",
    "version": 3
   },
   "file_extension": ".py",
   "mimetype": "text/x-python",
   "name": "python",
   "nbconvert_exporter": "python",
   "pygments_lexer": "ipython3",
   "version": "3.12.8"
  }
 },
 "nbformat": 4,
 "nbformat_minor": 5
}
